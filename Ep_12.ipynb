{
  "nbformat": 4,
  "nbformat_minor": 0,
  "metadata": {
    "colab": {
      "name": "Ep. #12.ipynb",
      "provenance": [],
      "collapsed_sections": [],
      "include_colab_link": true
    },
    "kernelspec": {
      "name": "python3",
      "display_name": "Python 3"
    }
  },
  "cells": [
    {
      "cell_type": "markdown",
      "metadata": {
        "id": "view-in-github",
        "colab_type": "text"
      },
      "source": [
        "<a href=\"https://colab.research.google.com/github/clovesrocha/ETEPDLPC/blob/master/Ep_12.ipynb\" target=\"_parent\"><img src=\"https://colab.research.google.com/assets/colab-badge.svg\" alt=\"Open In Colab\"/></a>"
      ]
    },
    {
      "cell_type": "code",
      "metadata": {
        "id": "sepO-F4QSUYS",
        "colab_type": "code",
        "colab": {}
      },
      "source": [
        "# Aula - Ep. #12 - Mini Curso de #IP\n",
        "# Episódio #12: Exercícios e Desafios [EXTRA]\n",
        "# GitHub do mini curso: https://github.com/clovesrocha/minicursoip\n",
        "# Prepara o café e vamos simbora!\n",
        "\n",
        "#Exercícios e Desafios \n",
        "#1.Faça um Programa que mostre a mensagem \"Olá mundo\" na tela.(Prof)\n",
        "#print('Olá, mundo!')\n",
        "#2.Faça um Programa que peça um número e então mostre a mensagem O número informado foi [número].(Antonio)\n",
        "#num = int(input('DIgite um valor: '))\n",
        "#print('O número informado foi:', num)\n",
        "#3.Faça um Programa que peça dois números e imprima a soma. (Antonio)\n",
        "#num1 = int(input('Digite um número: '))\n",
        "#num2 = int(input('Digite outro número: '))\n",
        "#soma = num1 + num2\n",
        "#print('O valor da soma é: ', soma)\n",
        "\n",
        "#4.Faça um Programa que peça as 4 notas bimestrais e mostre a média.(Jackson)\n",
        "#nota1 = float(input(\"Digite sua primeira nota: \"))\n",
        "#nota2 = float(input(\"Digite sua segunda nota: \"))\n",
        "#nota3 = float(input(\"Digite sua terceira nota: \"))\n",
        "#nota4 = float(input(\"Digite sua quarta nota: \"))\n",
        "#media = nota1 + nota2 + nota3 + nota4\n",
        "#print(\"Sua média é: \", media/4)\n",
        "\n",
        "#5.Faça um Programa que converta metros para centímetros.(Jackson)\n",
        "#c = float(input(\"Digite os cm a serem covnertidos: \"))\n",
        "#m = c/100\n",
        "#print(\"Metros: \", m)\n",
        "\n",
        "#6.Faça um Programa que peça o raio de um círculo, calcule e mostre sua área.(Antonio e Jackson)\n",
        "#pi = 3.14 \n",
        "#r = float(input('Digite o raio: '))\n",
        "#a = pi*(r*r)\n",
        "#print('A área do circulo é: ', a)\n",
        "\n",
        "#7.Faça um Programa que calcule a área de um quadrado, em seguida mostre o dobro desta área para o usuário. (Matheus)\n",
        "\n",
        "# altura = float(input('Digite a altura do quadrado: '))\n",
        "# base = float(input('Digite a base do quadrado: '))\n",
        "\n",
        "#  result = base * altura\n",
        "# print('Área do quadrado: ', result)\n",
        "# areaAoQuadrado = result * 2\n",
        "# print('dobro da área do quadrado: ', areaAoQuadrado)\n",
        "\n",
        "#8.Faça um Programa que pergunte quanto você ganha por hora e o número de horas trabalhadas no mês. \n",
        "#Calcule e mostre o total do seu salário no referido mês. (Matheus)\n",
        "\n",
        "# horas = float(input('digite as horas trabalhadas: '))\n",
        "\n",
        "# valorPorHora = float(input('digite quanto você ganha por hora: '))\n",
        "\n",
        "# total = horas * valorPorHora;\n",
        "\n",
        "# print(\"Total a receber no mês: \", total)\n",
        "\n",
        "#9.Faça um Programa que peça um valor e mostre na tela se o valor é positivo ou negativo.(Miguel)\n",
        "\n",
        "#value = int(input('Digite o valor : '))\n",
        "#\n",
        "#if value > 0:\n",
        "#  print(value, ' é positivo.')\n",
        "#else:\n",
        "#  print(value, ' é negativo.')\n",
        "  \n",
        "#10.Faça um Programa que verifique se uma letra digitada é \"F\" ou \"M\". \n",
        "#Conforme a letra escrever: F - Feminino, M - Masculino, Sexo Inválido.(Miguel)\n",
        "\n",
        "#sex = input('Digite seu sexo [F/M]').upper()\n",
        "#\n",
        "#if sex == 'M':\n",
        "#  print('Masculino')\n",
        "#elif sex == 'F':\n",
        "#  print('Feminino')\n",
        "#else:\n",
        "#  print('Sexo Inválido.')\n",
        "\n",
        "\n",
        "#11.Faça um Programa que verifique se uma letra digitada é vogal ou consoante.(Miguel)\n",
        "\n",
        "letter = input('Digite uma letra: ')\n",
        "\n",
        "vogais = 'aeiou'\n",
        "\n",
        "if letter in vogais:\n",
        "  print(letter, ' é uma vogal.')\n",
        "else:\n",
        "  print(letter ,' é uma consoante.')\n",
        "\n",
        "\n",
        "\n",
        "\n",
        "\n"
      ],
      "execution_count": null,
      "outputs": []
    },
    {
      "cell_type": "code",
      "metadata": {
        "id": "hCAS5eQ4WmAY",
        "colab_type": "code",
        "colab": {}
      },
      "source": [
        "#2.Faça um Programa que peça um número e então mostre a mensagem O número informado foi [número]."
      ],
      "execution_count": null,
      "outputs": []
    },
    {
      "cell_type": "code",
      "metadata": {
        "id": "amX5VmbyWmuA",
        "colab_type": "code",
        "colab": {}
      },
      "source": [
        ""
      ],
      "execution_count": null,
      "outputs": []
    }
  ]
}