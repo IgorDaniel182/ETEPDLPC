{
  "nbformat": 4,
  "nbformat_minor": 0,
  "metadata": {
    "colab": {
      "name": "Revisao.ipynb",
      "provenance": [],
      "authorship_tag": "ABX9TyMxO1/Os7ZGM6dqDiIAnZ5K",
      "include_colab_link": true
    },
    "kernelspec": {
      "name": "python3",
      "display_name": "Python 3"
    }
  },
  "cells": [
    {
      "cell_type": "markdown",
      "metadata": {
        "id": "view-in-github",
        "colab_type": "text"
      },
      "source": [
        "<a href=\"https://colab.research.google.com/github/clovesrocha/ETEPDLPC/blob/dev-live/Revisao.ipynb\" target=\"_parent\"><img src=\"https://colab.research.google.com/assets/colab-badge.svg\" alt=\"Open In Colab\"/></a>"
      ]
    },
    {
      "cell_type": "code",
      "metadata": {
        "id": "1bbD3lMpSeQ3",
        "colab_type": "code",
        "colab": {
          "base_uri": "https://localhost:8080/",
          "height": 51
        },
        "outputId": "de2e3d76-4c27-4388-e943-01d8b7236200"
      },
      "source": [
        "# ETE PORTO DIGITAL \n",
        "# DISCIPLINA DE LPC\n",
        "# PROFEFESSOR: CLOVES\n",
        "# ESTUDANTE: ____\n",
        "\n",
        "nome = input ('Digite seu nome: ')\n",
        "print(f'Seu nome é: {nome}')"
      ],
      "execution_count": 5,
      "outputs": [
        {
          "output_type": "stream",
          "text": [
            "Digite seu nome: Cloves \n",
            "Seu nome é: Cloves \n"
          ],
          "name": "stdout"
        }
      ]
    }
  ]
}