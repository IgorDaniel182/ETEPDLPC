{
  "nbformat": 4,
  "nbformat_minor": 0,
  "metadata": {
    "colab": {
      "name": "aula3.ipynb",
      "provenance": [],
      "authorship_tag": "ABX9TyPDIIdKbeC89daFwh/yGwKv",
      "include_colab_link": true
    },
    "kernelspec": {
      "name": "python3",
      "display_name": "Python 3"
    }
  },
  "cells": [
    {
      "cell_type": "markdown",
      "metadata": {
        "id": "view-in-github",
        "colab_type": "text"
      },
      "source": [
        "<a href=\"https://colab.research.google.com/github/clovesrocha/etepdlpc/blob/master/aula3.ipynb\" target=\"_parent\"><img src=\"https://colab.research.google.com/assets/colab-badge.svg\" alt=\"Open In Colab\"/></a>"
      ]
    },
    {
      "cell_type": "code",
      "metadata": {
        "id": "RPsS14oIA3ur",
        "colab_type": "code",
        "colab": {
          "base_uri": "https://localhost:8080/",
          "height": 51
        },
        "outputId": "25ccf721-0297-4aaf-c8c8-cc4b2c2cc51e"
      },
      "source": [
        "# ETE PORTO DIGITAL\n",
        "# LPC - Introdução a Python\n",
        "# Prof. Cloves Rocha\n",
        "# Estudante: -----\n",
        "\n",
        "# Assunto: Função range(): e Operador in; not in:\n",
        "\n",
        "#range(1,7):\n",
        "\n",
        "a = int(input('Digite um número: '))\n",
        "if a in range(1, 300):\n",
        "   print(f'{a} está entre o intervalo de 1 e 300.')\n",
        "else:\n",
        "   print(f'{a} não está entre o intervalo de 1 e 300.')\n",
        "\n",
        "#============= EXERCÍCIOS E DESAFIO ===================\n",
        "# 4 questões foram resolvidas na Live/Aula ministrada 09/07/2020.\n",
        "\n",
        "#Faça um Programa que verifique se uma letra digitada é \"F\" ou \"M\". Conforme a letra escrever: F - Feminino, M - Masculino, Sexo Inválido.\n",
        "# Questão 10\n",
        "#nome = input('Digite seu nome: ')\n",
        "#sexo = input('Digite seu sexo : ')\n",
        "#if sexo == 'm':\n",
        "#    print(f'{nome} é do sexo Masculino')\n",
        "#elif sexo == 'f':\n",
        "#    print(f'{nome} é do sexo Feminino')\n",
        "#else:\n",
        "#    print('Sexo Inválido.')\n",
        "\n",
        "# Questão 11\n",
        "#letra = input('Digite uma letra: ')\n",
        "#if letra in 'aeiou':\n",
        "#    print(f'{letra} é uma vogal.')\n",
        "#else:\n",
        "#    print(f'{letra} é uma consoante.')\n",
        "\n",
        "# Questão 5\n",
        "#Faça um Programa que converta metros para centímetros.\n",
        "\n",
        "#metro = float(input('Digite uma medida em metros: '))\n",
        "#cent = metro * 100\n",
        "#print(f'{metro} metros convertido para centímetros é igual a {cent} centímetros.')\n",
        "\n",
        "\n",
        "# Questão 7\n",
        "#Faça um Programa que pergunte quanto você ganha por hora e o número de horas trabalhadas no mês. Calcule e mostre o total do seu salário no referido mês.\n",
        "\n",
        "#valor_recebido_por_hora = float(input('Digite o quanto você recebe por hora: '))\n",
        "#horas_trabalhadas = int(input('Quantas horas você trabalha diariamente? '))\n",
        "#salario = (valor_recebido_por_hora * horas_trabalhadas) * 23\n",
        "#print(f'O seu salário é igual a R${salario}')\n",
        "\n",
        "\n"
      ],
      "execution_count": 1,
      "outputs": [
        {
          "output_type": "stream",
          "text": [
            "Digite um número: 2\n",
            "2 está entre o intervalo de 1 e 300.\n"
          ],
          "name": "stdout"
        }
      ]
    }
  ]
}
