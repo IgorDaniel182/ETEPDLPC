{
  "nbformat": 4,
  "nbformat_minor": 0,
  "metadata": {
    "colab": {
      "name": "recursividade.ipynb",
      "provenance": [],
      "authorship_tag": "ABX9TyNEk5N5QNuw4zlaZe6DDsrO",
      "include_colab_link": true
    },
    "kernelspec": {
      "name": "python3",
      "display_name": "Python 3"
    }
  },
  "cells": [
    {
      "cell_type": "markdown",
      "metadata": {
        "id": "view-in-github",
        "colab_type": "text"
      },
      "source": [
        "<a href=\"https://colab.research.google.com/github/clovesrocha/ETEPDLPC/blob/master/recursividade.ipynb\" target=\"_parent\"><img src=\"https://colab.research.google.com/assets/colab-badge.svg\" alt=\"Open In Colab\"/></a>"
      ]
    },
    {
      "cell_type": "code",
      "metadata": {
        "id": "y0mzd_zTZo80",
        "colab_type": "code",
        "colab": {}
      },
      "source": [
        "#ETE PD \n",
        "#Professor Cloves \n",
        "#Operadores com Texto e Recursividade Lógica em Python.\n",
        "\n",
        "#Exemplo 1\n",
        "#def contagemRegressiva(n=30):\n",
        "#  if n == 0:\n",
        "#    print('Decolar!')\n",
        "#  else: \n",
        "#    print(n)\n",
        "#    contagemRegressiva(n-1)\n",
        "\n",
        "#contagemRegressiva(n=30)\n",
        "\n",
        "#Exemplo 2\n",
        "#def contagemRegressiva(n=5):\n",
        "#  while(n):\n",
        "#    print(n)\n",
        "#    n = n - 1\n",
        "#contagemRegressiva(5)\n",
        "#print('Decolar!')"
      ],
      "execution_count": null,
      "outputs": []
    }
  ]
}